{
 "cells": [
  {
   "cell_type": "code",
   "execution_count": 1,
   "id": "962e2eab-fef2-4393-8e03-836e7921a99d",
   "metadata": {},
   "outputs": [],
   "source": [
    "# saves you having to use print as all exposed variables are printed in the cell\n",
    "from IPython.core.interactiveshell import InteractiveShell\n",
    "InteractiveShell.ast_node_interactivity = \"all\""
   ]
  },
  {
   "cell_type": "code",
   "execution_count": 2,
   "id": "68bdaf3a-78fb-438b-9590-d4feb46ad151",
   "metadata": {},
   "outputs": [],
   "source": [
    "import pyarrow as pa\n",
    "import pyarrow.compute as pc\n",
    "from nn_rag import Knowledge"
   ]
  },
  {
   "cell_type": "markdown",
   "id": "709d851e-70d0-4767-819f-e5571262c431",
   "metadata": {},
   "source": [
    "### Instantiate capability"
   ]
  },
  {
   "cell_type": "code",
   "execution_count": 3,
   "id": "b85ae8c1-598a-4764-97b0-7b882e3fadc8",
   "metadata": {},
   "outputs": [],
   "source": [
    "kn = Knowledge.from_env('knowledge_demo', has_contract=False)\n",
    "kn.set_description('Incubator to build a knowledge base for a RAG')"
   ]
  },
  {
   "cell_type": "code",
   "execution_count": 4,
   "id": "361cb284-9dbd-461b-9fbe-6abf87fed6c1",
   "metadata": {},
   "outputs": [],
   "source": [
    "uri = \"source/Gen AI Best Practices.pdf\"\n",
    "tbl = kn.set_source_uri(uri).load_source_canonical()\n",
    "kn.set_persist_uri('./hadron/data/gen_ai_best_practice.parquet')"
   ]
  },
  {
   "cell_type": "code",
   "execution_count": 5,
   "id": "b990c759-1ea5-467c-9f33-b9acd6a47ac7",
   "metadata": {},
   "outputs": [
    {
     "data": {
      "text/plain": [
       "(1, 1)"
      ]
     },
     "execution_count": 5,
     "metadata": {},
     "output_type": "execute_result"
    },
    {
     "data": {
      "text/plain": [
       "['text']"
      ]
     },
     "execution_count": 5,
     "metadata": {},
     "output_type": "execute_result"
    }
   ],
   "source": [
    "tbl.shape\n",
    "tbl.column_names"
   ]
  },
  {
   "cell_type": "markdown",
   "id": "92fe3fce-bcba-4c3c-a422-09595a350230",
   "metadata": {},
   "source": [
    "### Tidy the text"
   ]
  },
  {
   "cell_type": "code",
   "execution_count": 6,
   "id": "29e41f1b-9f7d-4679-866b-345d7ea9fdbb",
   "metadata": {},
   "outputs": [],
   "source": [
    "tbl = kn.tools.correlate_replace(tbl, 'text', '\\n', ' ', intent_order=-1)\n",
    "tbl = kn.tools.correlate_replace(tbl, 'text', '  ', ' ', intent_order=-1)"
   ]
  },
  {
   "cell_type": "markdown",
   "id": "d26fef06-d700-4ec1-944e-cdf80ce03df0",
   "metadata": {},
   "source": [
    "### Profling"
   ]
  },
  {
   "cell_type": "code",
   "execution_count": 7,
   "id": "b103bdd8-3502-4028-89d7-81b247024742",
   "metadata": {},
   "outputs": [
    {
     "data": {
      "text/plain": [
       "(1, 10)"
      ]
     },
     "execution_count": 7,
     "metadata": {},
     "output_type": "execute_result"
    },
    {
     "data": {
      "text/plain": [
       "['text',\n",
       " 'profile_name',\n",
       " 'page_number',\n",
       " 'char_count',\n",
       " 'word_count',\n",
       " 'sentence_count_raw',\n",
       " 'token_count',\n",
       " 'sentences',\n",
       " 'sentence_chunks',\n",
       " 'num_chunks']"
      ]
     },
     "execution_count": 7,
     "metadata": {},
     "output_type": "execute_result"
    }
   ],
   "source": [
    "profile = kn.tools.text_profiler(tbl, profile_name='gen_ai_best_practice', num_sentence_chunk_size=10, intent_order=-1)\n",
    "profile.shape\n",
    "profile.column_names"
   ]
  },
  {
   "cell_type": "markdown",
   "id": "5d00b208-3e72-435c-bdf1-deaa89c8de35",
   "metadata": {},
   "source": [
    "### Chunking"
   ]
  },
  {
   "cell_type": "code",
   "execution_count": 8,
   "id": "be78fdc2-df14-4fad-bcf2-60490b6e9629",
   "metadata": {},
   "outputs": [],
   "source": [
    "chunks = kn.tools.sentence_chunk(profile, intent_order=-1)"
   ]
  },
  {
   "cell_type": "code",
   "execution_count": 9,
   "id": "2748067e-69ea-4c2d-8b3e-5cb458f2a5a9",
   "metadata": {},
   "outputs": [
    {
     "data": {
      "text/plain": [
       "(40, 5)"
      ]
     },
     "execution_count": 9,
     "metadata": {},
     "output_type": "execute_result"
    },
    {
     "data": {
      "text/plain": [
       "['page_number',\n",
       " 'sentence_chunk',\n",
       " 'chunk_char_count',\n",
       " 'chunk_word_count',\n",
       " 'chunk_token_count']"
      ]
     },
     "execution_count": 9,
     "metadata": {},
     "output_type": "execute_result"
    }
   ],
   "source": [
    "chunks.shape\n",
    "chunks.column_names"
   ]
  },
  {
   "cell_type": "markdown",
   "id": "6caee61a-6506-4025-99d5-d2969a320a10",
   "metadata": {},
   "source": [
    "### Embedding"
   ]
  },
  {
   "cell_type": "code",
   "execution_count": 10,
   "id": "1caf4977-4398-45f5-9a48-af84a21cf7a7",
   "metadata": {},
   "outputs": [],
   "source": [
    "embedding = kn.tools.chunk_embedding(chunks, batch_size=32, embedding_name='all-mpnet-base-v2', device='cpu', intent_order=-1)"
   ]
  },
  {
   "cell_type": "code",
   "execution_count": 11,
   "id": "69f9ab6c-d6df-44a1-b420-1b6172d6726f",
   "metadata": {},
   "outputs": [
    {
     "data": {
      "text/plain": [
       "pyarrow.lib.Tensor"
      ]
     },
     "execution_count": 11,
     "metadata": {},
     "output_type": "execute_result"
    },
    {
     "data": {
      "text/plain": [
       "(40, 768)"
      ]
     },
     "execution_count": 11,
     "metadata": {},
     "output_type": "execute_result"
    }
   ],
   "source": [
    "type(embedding)\n",
    "embedding.shape"
   ]
  },
  {
   "cell_type": "markdown",
   "id": "2fe89767-7f4a-467e-aab6-8055471df145",
   "metadata": {},
   "source": [
    "### Run Capability"
   ]
  },
  {
   "cell_type": "code",
   "execution_count": 13,
   "id": "7bcd0df8-9233-42c6-94ba-3aabe16ea94b",
   "metadata": {},
   "outputs": [],
   "source": [
    "kn.run_component_pipeline()"
   ]
  },
  {
   "cell_type": "markdown",
   "id": "17997d56-64f5-4124-8a3d-0d3cc13c0d6b",
   "metadata": {},
   "source": [
    "### Reports"
   ]
  },
  {
   "cell_type": "code",
   "execution_count": 14,
   "id": "1ff795ff-3a79-4cd4-beb4-55eea3956233",
   "metadata": {},
   "outputs": [
    {
     "data": {
      "text/html": [
       "<style type=\"text/css\">\n",
       "#T_c55a3 th {\n",
       "  font-size: 120%;\n",
       "  text-align: center;\n",
       "}\n",
       "#T_c55a3 .row_heading {\n",
       "  display: none;;\n",
       "}\n",
       "#T_c55a3  .blank {\n",
       "  display: none;;\n",
       "}\n",
       "#T_c55a3_row0_col0, #T_c55a3_row1_col0, #T_c55a3_row2_col0, #T_c55a3_row3_col0, #T_c55a3_row4_col0 {\n",
       "  text-align: left;\n",
       "  font-weight: bold;\n",
       "  font-size: 120%;\n",
       "}\n",
       "#T_c55a3_row0_col1, #T_c55a3_row0_col2, #T_c55a3_row0_col3, #T_c55a3_row0_col4, #T_c55a3_row1_col1, #T_c55a3_row1_col2, #T_c55a3_row1_col3, #T_c55a3_row1_col4, #T_c55a3_row2_col1, #T_c55a3_row2_col2, #T_c55a3_row2_col3, #T_c55a3_row2_col4, #T_c55a3_row3_col1, #T_c55a3_row3_col2, #T_c55a3_row3_col3, #T_c55a3_row3_col4, #T_c55a3_row4_col1, #T_c55a3_row4_col2, #T_c55a3_row4_col3, #T_c55a3_row4_col4 {\n",
       "  text-align: left;\n",
       "}\n",
       "</style>\n",
       "<table id=\"T_c55a3\">\n",
       "  <thead>\n",
       "    <tr>\n",
       "      <th class=\"blank level0\" >&nbsp;</th>\n",
       "      <th id=\"T_c55a3_level0_col0\" class=\"col_heading level0 col0\" >level</th>\n",
       "      <th id=\"T_c55a3_level0_col1\" class=\"col_heading level0 col1\" >order</th>\n",
       "      <th id=\"T_c55a3_level0_col2\" class=\"col_heading level0 col2\" >intent</th>\n",
       "      <th id=\"T_c55a3_level0_col3\" class=\"col_heading level0 col3\" >parameters</th>\n",
       "      <th id=\"T_c55a3_level0_col4\" class=\"col_heading level0 col4\" >creator</th>\n",
       "    </tr>\n",
       "  </thead>\n",
       "  <tbody>\n",
       "    <tr>\n",
       "      <th id=\"T_c55a3_level0_row0\" class=\"row_heading level0 row0\" >0</th>\n",
       "      <td id=\"T_c55a3_row0_col0\" class=\"data row0 col0\" >primary</td>\n",
       "      <td id=\"T_c55a3_row0_col1\" class=\"data row0 col1\" >0</td>\n",
       "      <td id=\"T_c55a3_row0_col2\" class=\"data row0 col2\" >correlate_replace</td>\n",
       "      <td id=\"T_c55a3_row0_col3\" class=\"data row0 col3\" >[\"header='text'\", \"pattern='\\n'\", \"replacement=' '\", 'save_intent=False']</td>\n",
       "      <td id=\"T_c55a3_row0_col4\" class=\"data row0 col4\" >default</td>\n",
       "    </tr>\n",
       "    <tr>\n",
       "      <th id=\"T_c55a3_level0_row1\" class=\"row_heading level0 row1\" >1</th>\n",
       "      <td id=\"T_c55a3_row1_col0\" class=\"data row1 col0\" ></td>\n",
       "      <td id=\"T_c55a3_row1_col1\" class=\"data row1 col1\" >1</td>\n",
       "      <td id=\"T_c55a3_row1_col2\" class=\"data row1 col2\" >correlate_replace</td>\n",
       "      <td id=\"T_c55a3_row1_col3\" class=\"data row1 col3\" >[\"header='text'\", \"pattern='  '\", \"replacement=' '\", 'save_intent=False']</td>\n",
       "      <td id=\"T_c55a3_row1_col4\" class=\"data row1 col4\" >default</td>\n",
       "    </tr>\n",
       "    <tr>\n",
       "      <th id=\"T_c55a3_level0_row2\" class=\"row_heading level0 row2\" >2</th>\n",
       "      <td id=\"T_c55a3_row2_col0\" class=\"data row2 col0\" ></td>\n",
       "      <td id=\"T_c55a3_row2_col1\" class=\"data row2 col1\" >2</td>\n",
       "      <td id=\"T_c55a3_row2_col2\" class=\"data row2 col2\" >text_profiler</td>\n",
       "      <td id=\"T_c55a3_row2_col3\" class=\"data row2 col3\" >[\"profile_name='gen_ai_best_practice'\", 'num_sentence_chunk_size=10', 'save_intent=False']</td>\n",
       "      <td id=\"T_c55a3_row2_col4\" class=\"data row2 col4\" >default</td>\n",
       "    </tr>\n",
       "    <tr>\n",
       "      <th id=\"T_c55a3_level0_row3\" class=\"row_heading level0 row3\" >3</th>\n",
       "      <td id=\"T_c55a3_row3_col0\" class=\"data row3 col0\" ></td>\n",
       "      <td id=\"T_c55a3_row3_col1\" class=\"data row3 col1\" >3</td>\n",
       "      <td id=\"T_c55a3_row3_col2\" class=\"data row3 col2\" >sentence_chunk</td>\n",
       "      <td id=\"T_c55a3_row3_col3\" class=\"data row3 col3\" >['save_intent=False']</td>\n",
       "      <td id=\"T_c55a3_row3_col4\" class=\"data row3 col4\" >default</td>\n",
       "    </tr>\n",
       "    <tr>\n",
       "      <th id=\"T_c55a3_level0_row4\" class=\"row_heading level0 row4\" >4</th>\n",
       "      <td id=\"T_c55a3_row4_col0\" class=\"data row4 col0\" ></td>\n",
       "      <td id=\"T_c55a3_row4_col1\" class=\"data row4 col1\" >4</td>\n",
       "      <td id=\"T_c55a3_row4_col2\" class=\"data row4 col2\" >chunk_embedding</td>\n",
       "      <td id=\"T_c55a3_row4_col3\" class=\"data row4 col3\" >['batch_size=32', \"embedding_name='all-mpnet-base-v2'\", \"device='cpu'\", 'save_intent=False']</td>\n",
       "      <td id=\"T_c55a3_row4_col4\" class=\"data row4 col4\" >default</td>\n",
       "    </tr>\n",
       "  </tbody>\n",
       "</table>\n"
      ],
      "text/plain": [
       "<pandas.io.formats.style.Styler at 0x7fa1fa73fc40>"
      ]
     },
     "execution_count": 14,
     "metadata": {},
     "output_type": "execute_result"
    }
   ],
   "source": [
    "kn.report_intent()"
   ]
  },
  {
   "cell_type": "code",
   "execution_count": 15,
   "id": "87e4bd97-7e5f-4dc4-b687-810679fa0c1c",
   "metadata": {},
   "outputs": [
    {
     "data": {
      "text/html": [
       "<style type=\"text/css\">\n",
       "#T_8ceec th {\n",
       "  font-size: 120%;\n",
       "  text-align: center;\n",
       "}\n",
       "#T_8ceec .row_heading {\n",
       "  display: none;;\n",
       "}\n",
       "#T_8ceec  .blank {\n",
       "  display: none;;\n",
       "}\n",
       "#T_8ceec_row0_col0, #T_8ceec_row1_col0 {\n",
       "  text-align: left;\n",
       "  font-weight: bold;\n",
       "  font-size: 120%;\n",
       "}\n",
       "#T_8ceec_row0_col1, #T_8ceec_row0_col2, #T_8ceec_row0_col3, #T_8ceec_row0_col4, #T_8ceec_row0_col5, #T_8ceec_row0_col6, #T_8ceec_row0_col7, #T_8ceec_row1_col1, #T_8ceec_row1_col2, #T_8ceec_row1_col3, #T_8ceec_row1_col4, #T_8ceec_row1_col5, #T_8ceec_row1_col6, #T_8ceec_row1_col7 {\n",
       "  text-align: left;\n",
       "}\n",
       "</style>\n",
       "<table id=\"T_8ceec\">\n",
       "  <thead>\n",
       "    <tr>\n",
       "      <th class=\"blank level0\" >&nbsp;</th>\n",
       "      <th id=\"T_8ceec_level0_col0\" class=\"col_heading level0 col0\" >connector_name</th>\n",
       "      <th id=\"T_8ceec_level0_col1\" class=\"col_heading level0 col1\" >uri</th>\n",
       "      <th id=\"T_8ceec_level0_col2\" class=\"col_heading level0 col2\" >module_name</th>\n",
       "      <th id=\"T_8ceec_level0_col3\" class=\"col_heading level0 col3\" >handler</th>\n",
       "      <th id=\"T_8ceec_level0_col4\" class=\"col_heading level0 col4\" >version</th>\n",
       "      <th id=\"T_8ceec_level0_col5\" class=\"col_heading level0 col5\" >kwargs</th>\n",
       "      <th id=\"T_8ceec_level0_col6\" class=\"col_heading level0 col6\" >query</th>\n",
       "      <th id=\"T_8ceec_level0_col7\" class=\"col_heading level0 col7\" >aligned</th>\n",
       "    </tr>\n",
       "  </thead>\n",
       "  <tbody>\n",
       "    <tr>\n",
       "      <th id=\"T_8ceec_level0_row0\" class=\"row_heading level0 row0\" >0</th>\n",
       "      <td id=\"T_8ceec_row0_col0\" class=\"data row0 col0\" >primary_source</td>\n",
       "      <td id=\"T_8ceec_row0_col1\" class=\"data row0 col1\" >Gen AI Best Practices.pdf</td>\n",
       "      <td id=\"T_8ceec_row0_col2\" class=\"data row0 col2\" >nn_rag.handlers.knowledge_handlers</td>\n",
       "      <td id=\"T_8ceec_row0_col3\" class=\"data row0 col3\" >KnowledgePersistHandler</td>\n",
       "      <td id=\"T_8ceec_row0_col4\" class=\"data row0 col4\" >0.0.1</td>\n",
       "      <td id=\"T_8ceec_row0_col5\" class=\"data row0 col5\" ></td>\n",
       "      <td id=\"T_8ceec_row0_col6\" class=\"data row0 col6\" ></td>\n",
       "      <td id=\"T_8ceec_row0_col7\" class=\"data row0 col7\" >False</td>\n",
       "    </tr>\n",
       "    <tr>\n",
       "      <th id=\"T_8ceec_level0_row1\" class=\"row_heading level0 row1\" >1</th>\n",
       "      <td id=\"T_8ceec_row1_col0\" class=\"data row1 col0\" >primary_persist</td>\n",
       "      <td id=\"T_8ceec_row1_col1\" class=\"data row1 col1\" >gen_ai_best_practice.parquet</td>\n",
       "      <td id=\"T_8ceec_row1_col2\" class=\"data row1 col2\" >nn_rag.handlers.knowledge_handlers</td>\n",
       "      <td id=\"T_8ceec_row1_col3\" class=\"data row1 col3\" >KnowledgePersistHandler</td>\n",
       "      <td id=\"T_8ceec_row1_col4\" class=\"data row1 col4\" >0.0.1</td>\n",
       "      <td id=\"T_8ceec_row1_col5\" class=\"data row1 col5\" ></td>\n",
       "      <td id=\"T_8ceec_row1_col6\" class=\"data row1 col6\" ></td>\n",
       "      <td id=\"T_8ceec_row1_col7\" class=\"data row1 col7\" >False</td>\n",
       "    </tr>\n",
       "  </tbody>\n",
       "</table>\n"
      ],
      "text/plain": [
       "<pandas.io.formats.style.Styler at 0x7fa1d90aec80>"
      ]
     },
     "execution_count": 15,
     "metadata": {},
     "output_type": "execute_result"
    }
   ],
   "source": [
    "kn.report_connectors()"
   ]
  },
  {
   "cell_type": "code",
   "execution_count": 16,
   "id": "6a227891-7135-4057-a4ff-fa29ed8c1d05",
   "metadata": {},
   "outputs": [
    {
     "data": {
      "text/html": [
       "<style type=\"text/css\">\n",
       "#T_e0105 th {\n",
       "  font-size: 120%;\n",
       "  text-align: center;\n",
       "}\n",
       "#T_e0105 .row_heading {\n",
       "  display: none;;\n",
       "}\n",
       "#T_e0105  .blank {\n",
       "  display: none;;\n",
       "}\n",
       "#T_e0105_row0_col0, #T_e0105_row1_col0, #T_e0105_row2_col0, #T_e0105_row3_col0, #T_e0105_row4_col0 {\n",
       "  text-align: left;\n",
       "  font-weight: bold;\n",
       "  font-size: 120%;\n",
       "}\n",
       "#T_e0105_row0_col1, #T_e0105_row1_col1, #T_e0105_row2_col1, #T_e0105_row3_col1, #T_e0105_row4_col1 {\n",
       "  text-align: left;\n",
       "}\n",
       "</style>\n",
       "<table id=\"T_e0105\">\n",
       "  <thead>\n",
       "    <tr>\n",
       "      <th class=\"blank level0\" >&nbsp;</th>\n",
       "      <th id=\"T_e0105_level0_col0\" class=\"col_heading level0 col0\" >name</th>\n",
       "      <th id=\"T_e0105_level0_col1\" class=\"col_heading level0 col1\" >value</th>\n",
       "    </tr>\n",
       "  </thead>\n",
       "  <tbody>\n",
       "    <tr>\n",
       "      <th id=\"T_e0105_level0_row0\" class=\"row_heading level0 row0\" >0</th>\n",
       "      <td id=\"T_e0105_row0_col0\" class=\"data row0 col0\" >contract</td>\n",
       "      <td id=\"T_e0105_row0_col1\" class=\"data row0 col1\" >knowledge</td>\n",
       "    </tr>\n",
       "    <tr>\n",
       "      <th id=\"T_e0105_level0_row1\" class=\"row_heading level0 row1\" >1</th>\n",
       "      <td id=\"T_e0105_row1_col0\" class=\"data row1 col0\" >task</td>\n",
       "      <td id=\"T_e0105_row1_col1\" class=\"data row1 col1\" >knowledge_demo</td>\n",
       "    </tr>\n",
       "    <tr>\n",
       "      <th id=\"T_e0105_level0_row2\" class=\"row_heading level0 row2\" >2</th>\n",
       "      <td id=\"T_e0105_row2_col0\" class=\"data row2 col0\" >description</td>\n",
       "      <td id=\"T_e0105_row2_col1\" class=\"data row2 col1\" >Incubator to build a knowledge base for a RAG</td>\n",
       "    </tr>\n",
       "    <tr>\n",
       "      <th id=\"T_e0105_level0_row3\" class=\"row_heading level0 row3\" >3</th>\n",
       "      <td id=\"T_e0105_row3_col0\" class=\"data row3 col0\" >status</td>\n",
       "      <td id=\"T_e0105_row3_col1\" class=\"data row3 col1\" >discovery</td>\n",
       "    </tr>\n",
       "    <tr>\n",
       "      <th id=\"T_e0105_level0_row4\" class=\"row_heading level0 row4\" >4</th>\n",
       "      <td id=\"T_e0105_row4_col0\" class=\"data row4 col0\" >version</td>\n",
       "      <td id=\"T_e0105_row4_col1\" class=\"data row4 col1\" >0.0.1</td>\n",
       "    </tr>\n",
       "  </tbody>\n",
       "</table>\n"
      ],
      "text/plain": [
       "<pandas.io.formats.style.Styler at 0x7fa1d90af6d0>"
      ]
     },
     "execution_count": 16,
     "metadata": {},
     "output_type": "execute_result"
    }
   ],
   "source": [
    "kn.report_task()"
   ]
  },
  {
   "cell_type": "code",
   "execution_count": null,
   "id": "edc796f5-7f22-478a-857d-60f50565b590",
   "metadata": {},
   "outputs": [],
   "source": []
  }
 ],
 "metadata": {
  "kernelspec": {
   "display_name": "Python 3 (ipykernel)",
   "language": "python",
   "name": "python3"
  },
  "language_info": {
   "codemirror_mode": {
    "name": "ipython",
    "version": 3
   },
   "file_extension": ".py",
   "mimetype": "text/x-python",
   "name": "python",
   "nbconvert_exporter": "python",
   "pygments_lexer": "ipython3",
   "version": "3.10.14"
  }
 },
 "nbformat": 4,
 "nbformat_minor": 5
}
